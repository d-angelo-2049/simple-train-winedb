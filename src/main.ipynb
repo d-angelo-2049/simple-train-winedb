{
 "cells": [
  {
   "cell_type": "markdown",
   "id": "c5f02201-8176-409b-9130-cfbdd2aaab4e",
   "metadata": {},
   "source": [
    "## ワインデータセットを用いた分類問題\n",
    "3種類のワインのデータセットを用いてロジスティック回帰、SVM、決定木を用いて正解率を算出する\n",
    "### 条件\n",
    "- randam_stateは常に1とする\n",
    "- 学習データとテストデータの比は7:3で固定する\n",
    "- 学習に用いるラベルはカラム'target'を用いる\n",
    "- 特徴量は13種類の中から1つ以上選択する\n",
    "- 必要に応じて前処理を行う"
   ]
  },
  {
   "cell_type": "markdown",
   "id": "81a219e2-6512-4a6b-be0b-0eaed53c6d9c",
   "metadata": {},
   "source": [
    "### 各種依存関係をインポート"
   ]
  },
  {
   "cell_type": "code",
   "execution_count": 9,
   "id": "114a2d53-94ae-4839-9d5d-5253ca194d98",
   "metadata": {},
   "outputs": [],
   "source": [
    "import numpy as np\n",
    "import seaborn as sns\n",
    "import matplotlib.pyplot as plt\n",
    "import pandas\n",
    "\n",
    "from sklearn.svm import SVC\n",
    "from sklearn.model_selection import train_test_split\n",
    "from sklearn.linear_model import LogisticRegression\n",
    "from sklearn.datasets import load_wine\n",
    "from sklearn.ensemble import RandomForestClassifier\n",
    "from sklearn.preprocessing import MinMaxScaler\n",
    "from sklearn.preprocessing import StandardScaler\n",
    "from sklearn.decomposition import PCA\n",
    "\n",
    "from sklearn.metrics import accuracy_score\n",
    "from sklearn.metrics import precision_score\n",
    "from sklearn.metrics import recall_score\n",
    "from sklearn.metrics import f1_score\n",
    "from sklearn.metrics import confusion_matrix"
   ]
  },
  {
   "cell_type": "markdown",
   "id": "ace05eba-fdb1-46a7-8835-9962348e8102",
   "metadata": {},
   "source": [
    "### データセットインポート\n"
   ]
  },
  {
   "cell_type": "code",
   "execution_count": 10,
   "id": "c12ad3fb-e442-429a-aab8-a6ad6e12075c",
   "metadata": {},
   "outputs": [
    {
     "name": "stdout",
     "output_type": "stream",
     "text": [
      "['class_0' 'class_1' 'class_2']\n",
      "dict_keys(['data', 'target', 'frame', 'target_names', 'DESCR', 'feature_names'])\n",
      "     alcohol  malic_acid   ash  alcalinity_of_ash  magnesium  total_phenols  \\\n",
      "0      14.23        1.71  2.43               15.6      127.0           2.80   \n",
      "1      13.20        1.78  2.14               11.2      100.0           2.65   \n",
      "2      13.16        2.36  2.67               18.6      101.0           2.80   \n",
      "3      14.37        1.95  2.50               16.8      113.0           3.85   \n",
      "4      13.24        2.59  2.87               21.0      118.0           2.80   \n",
      "..       ...         ...   ...                ...        ...            ...   \n",
      "173    13.71        5.65  2.45               20.5       95.0           1.68   \n",
      "174    13.40        3.91  2.48               23.0      102.0           1.80   \n",
      "175    13.27        4.28  2.26               20.0      120.0           1.59   \n",
      "176    13.17        2.59  2.37               20.0      120.0           1.65   \n",
      "177    14.13        4.10  2.74               24.5       96.0           2.05   \n",
      "\n",
      "     flavanoids  nonflavanoid_phenols  proanthocyanins  color_intensity   hue  \\\n",
      "0          3.06                  0.28             2.29             5.64  1.04   \n",
      "1          2.76                  0.26             1.28             4.38  1.05   \n",
      "2          3.24                  0.30             2.81             5.68  1.03   \n",
      "3          3.49                  0.24             2.18             7.80  0.86   \n",
      "4          2.69                  0.39             1.82             4.32  1.04   \n",
      "..          ...                   ...              ...              ...   ...   \n",
      "173        0.61                  0.52             1.06             7.70  0.64   \n",
      "174        0.75                  0.43             1.41             7.30  0.70   \n",
      "175        0.69                  0.43             1.35            10.20  0.59   \n",
      "176        0.68                  0.53             1.46             9.30  0.60   \n",
      "177        0.76                  0.56             1.35             9.20  0.61   \n",
      "\n",
      "     od280/od315_of_diluted_wines  proline  target  \n",
      "0                            3.92   1065.0       0  \n",
      "1                            3.40   1050.0       0  \n",
      "2                            3.17   1185.0       0  \n",
      "3                            3.45   1480.0       0  \n",
      "4                            2.93    735.0       0  \n",
      "..                            ...      ...     ...  \n",
      "173                          1.74    740.0       2  \n",
      "174                          1.56    750.0       2  \n",
      "175                          1.56    835.0       2  \n",
      "176                          1.62    840.0       2  \n",
      "177                          1.60    560.0       2  \n",
      "\n",
      "[178 rows x 14 columns]\n",
      "['alcohol', 'malic_acid', 'ash', 'alcalinity_of_ash', 'magnesium', 'total_phenols', 'flavanoids', 'nonflavanoid_phenols', 'proanthocyanins', 'color_intensity', 'hue', 'od280/od315_of_diluted_wines', 'proline']\n"
     ]
    }
   ],
   "source": [
    "wine_db = load_wine(as_frame=True)\n",
    "wine_db.target[[10, 80, 140]]\n",
    "print(wine_db.target_names)\n",
    "print(wine_db.keys())\n",
    "print(wine_db.frame)\n",
    "print(wine_db.feature_names)"
   ]
  },
  {
   "cell_type": "markdown",
   "id": "a61b30a4-d216-435e-80c6-1cfaaa93c714",
   "metadata": {},
   "source": [
    "### ランダムフォレストによる特徴量毎の重要度を抽出\n",
    "ランダムフォレストには ジニ不純度(Gini impurity)と呼ばれるノードごとに「ターゲットがどれくらい分類できていないか」を測る指標がある。\n",
    "\n",
    "また、このジニ不純度を元に「ある特徴量で分割することでどれくらいジニ不純度を下げられるのか」を示す重要度という指標も存在するとわかった。\n",
    "つまり、重要度は分類するために意味があるかの程度を特徴量ごとに相対的に示したものと解釈した。\n",
    "この重要度を元に学習にかける特徴量を選定してみる。\n",
    "\n",
    "https://scikit-learn.org/stable/auto_examples/ensemble/plot_forest_importances.html\n",
    "\n",
    "\n",
    "重要度を示したところ、約10％台の数値が5つ存在した。\n",
    "そのため、上位５つの特徴量を用いて学習と分類を行う。 \n",
    "- 1) proline                        0.181655\n",
    "- 2) flavanoids                     0.164055\n",
    "- 3) alcohol                        0.146294\n",
    "- 4) color_intensity                0.135429\n",
    "- 5) od280/od315_of_diluted_wines   0.129824"
   ]
  },
  {
   "cell_type": "code",
   "execution_count": 11,
   "id": "6f0f727d-b0fd-4eea-8a4b-dfcc0ce2a256",
   "metadata": {},
   "outputs": [
    {
     "name": "stdout",
     "output_type": "stream",
     "text": [
      " 1) proline                        0.181655\n",
      " 2) flavanoids                     0.164055\n",
      " 3) alcohol                        0.146294\n",
      " 4) color_intensity                0.135429\n",
      " 5) od280/od315_of_diluted_wines   0.129824\n",
      " 6) hue                            0.082613\n",
      " 7) total_phenols                  0.041013\n",
      " 8) magnesium                      0.032354\n",
      " 9) alcalinity_of_ash              0.022348\n",
      "10) proanthocyanins                0.021885\n",
      "11) malic_acid                     0.019838\n",
      "12) ash                            0.012625\n",
      "13) nonflavanoid_phenols           0.010068\n"
     ]
    }
   ],
   "source": [
    "# ランダムフォレストを用いた特徴量重要度の算出\n",
    "\n",
    "scaler = StandardScaler()\n",
    "scaled = scaler.fit_transform(wine_db.data)\n",
    "forest = RandomForestClassifier(random_state=1)\n",
    "forest.fit(scaled, wine_db.target)\n",
    "importances = forest.feature_importances_\n",
    "\n",
    "# 特徴量重要度の降順で特徴量名を表示\n",
    "indices = np.argsort(importances)[::-1]\n",
    "for f in range(wine_db.data.shape[1]):\n",
    "    print(\"%2d) %-*s %f\" % (f + 1, 30, wine_db.feature_names[indices[f]], importances[indices[f]]))\n",
    "    \n",
    "\n",
    "    ### 結果出力用関数\n",
    "def show_score(y_test, score, cm_name=\"confusion_matrix.png\"):\n",
    "    print(\"accuracy\", accuracy_score(y_test, score))\n",
    "    print(\"precision\", precision_score(y_test, score, average='macro'))\n",
    "    print(\"recall\", recall_score(y_test, score, average='macro'))\n",
    "    print(\"f1\", f1_score(y_test, score, average='macro'))\n",
    "    cm = confusion_matrix(y_test, score)\n",
    "    print(\"confusion matrix\", cm)\n",
    "    \n",
    "    sns.heatmap(cm, annot=True, cmap='Blues')\n",
    "    plt.xlabel('Predicted labels')\n",
    "    plt.ylabel('True labels')\n",
    "    plt.savefig(cm_name)\n",
    "    plt.show()\n",
    "\n",
    "    \n",
    "# 重要度上位5つの特徴量を指定\n",
    "x = wine_db.frame.iloc[:, [12, 6, 0, 9, 11]]\n",
    "# 正規化\n",
    "scaler = StandardScaler()\n",
    "x_scaled = scaler.fit_transform(x)\n",
    "y = wine_db.target"
   ]
  },
  {
   "cell_type": "markdown",
   "id": "dbc923bb-11d9-4aad-85fe-f2ff0a52e4c3",
   "metadata": {},
   "source": [
    "#### 線形SVMによる分類\n",
    "スコア結果は下記のようになった。\n",
    "\n",
    "1件の誤分類を除いて、正しく推定できた。\n",
    "元データセットには 13個の特徴量が存在するが、実質推定に必要なものは5個程度であるとわかった。\n",
    "また、標準化の有無に関わらず各種メトリクスに違いはなかった。\n",
    "\n",
    "##### 標準化なし\n",
    "- accuracy 0.9814814814814815\n",
    "- precision 0.9861111111111112\n",
    "- recall 0.9824561403508771\n",
    "- f1 0.9838987924094308\n",
    "\n",
    "##### 標準化あり\n",
    "- accuracy 0.9814814814814815\n",
    "- precision 0.9861111111111112\n",
    "- recall 0.9824561403508771\n",
    "- f1 0.9838987924094308\n"
   ]
  },
  {
   "cell_type": "code",
   "execution_count": 12,
   "id": "489b9be7-8734-4067-97e5-844903284a34",
   "metadata": {},
   "outputs": [
    {
     "name": "stdout",
     "output_type": "stream",
     "text": [
      "accuracy 0.9814814814814815\n",
      "precision 0.9861111111111112\n",
      "recall 0.9824561403508771\n",
      "f1 0.9838987924094308\n",
      "confusion matrix [[23  0  0]\n",
      " [ 1 18  0]\n",
      " [ 0  0 12]]\n"
     ]
    },
    {
     "data": {
      "image/png": "[encoded data removed]",
      "text/plain": [
       "<Figure size 640x480 with 2 Axes>"
      ]
     },
     "metadata": {},
     "output_type": "display_data"
    }
   ],
   "source": [
    "# 学習データとテストデータに分割する\n",
    "X_train, X_test, y_train, y_test = train_test_split(x_scaled, y, test_size=0.3, random_state=1)\n",
    "\n",
    "# SVM で学習する\n",
    "svm_model = SVC(kernel='linear', C=1.0, random_state=1)\n",
    "svm_model.fit(X_train, y_train)\n",
    "\n",
    "score = svm_model.predict(X_test)\n",
    "\n",
    "show_score(y_test, score, \"svm_5_features_selected_by_random_forest_importance.png\")"
   ]
  },
  {
   "cell_type": "markdown",
   "id": "f89c3311-b4d6-48a9-8b74-87b70413bda4",
   "metadata": {},
   "source": [
    "#### ロジスティック回帰による分類\n",
    "スコア結果は下記のようになった。\n",
    "\n",
    "ロジスティック回帰による分類でも線形SVM同様に1件の誤分類を除いて、正しく推定できた。\n",
    "また、ロジスティック回帰の場合は 標準化をしないと学習が収束せずエラーとなることがわかった。\n",
    "\n",
    "##### 標準化なし\n",
    "学習が収束せずエラーとなる\n",
    "\n",
    "```\n",
    "/opt/conda/envs/winedb_env/lib/python3.8/site-packages/sklearn/linear_model/_logistic.py:458: ConvergenceWarning: lbfgs failed to converge (status=1):\n",
    "STOP: TOTAL NO. of ITERATIONS REACHED LIMIT.\n",
    "\n",
    "Increase the number of iterations (max_iter) or scale the data as shown in:\n",
    "    https://scikit-learn.org/stable/modules/preprocessing.html\n",
    "Please also refer to the documentation for alternative solver options:\n",
    "    https://scikit-learn.org/stable/modules/linear_model.html#logistic-regression\n",
    "  n_iter_i = _check_optimize_result(\n",
    "```\n",
    "\n",
    "##### 標準化あり\n",
    "- accuracy 0.9814814814814815\n",
    "- precision 0.9861111111111112\n",
    "- recall 0.9824561403508771\n",
    "- f1 0.9838987924094308\n"
   ]
  },
  {
   "cell_type": "code",
   "execution_count": 13,
   "id": "6abb5184-7f2c-473c-a1d2-2dc247129712",
   "metadata": {},
   "outputs": [
    {
     "name": "stdout",
     "output_type": "stream",
     "text": [
      "accuracy 0.9814814814814815\n",
      "precision 0.9861111111111112\n",
      "recall 0.9824561403508771\n",
      "f1 0.9838987924094308\n",
      "confusion matrix [[23  0  0]\n",
      " [ 1 18  0]\n",
      " [ 0  0 12]]\n"
     ]
    },
    {
     "data": {
      "image/png": "[encoded data removed]",
      "text/plain": [
       "<Figure size 640x480 with 2 Axes>"
      ]
     },
     "metadata": {},
     "output_type": "display_data"
    }
   ],
   "source": [
    "# 学習データとテストデータに分割する\n",
    "X_train, X_test, y_train, y_test = train_test_split(x_scaled, y, test_size=0.3, random_state=1)\n",
    "\n",
    "# SVM で学習する\n",
    "logistic_regression_model = LogisticRegression(multi_class='multinomial', solver='lbfgs')\n",
    "logistic_regression_model.fit(X_train, y_train)\n",
    "\n",
    "score = logistic_regression_model.predict(X_test)\n",
    "\n",
    "show_score(y_test, score, \"log_5_features_selected_by_random_forest_importance.png\")"
   ]
  },
  {
   "cell_type": "markdown",
   "id": "db134115-6e85-46ed-93a3-5cfc80e68c04",
   "metadata": {},
   "source": [
    "### PCAによる特徴量の圧縮\n",
    "PCAで13個の特徴量を低次元に圧縮する。\n",
    "ランダムフォレストによる重要度の指標を目安として、PCAによる圧縮も5次元まで行ってみる。"
   ]
  },
  {
   "cell_type": "code",
   "execution_count": 14,
   "id": "e9788b14-5aa1-4a57-9a56-e10504c7ac5e",
   "metadata": {},
   "outputs": [],
   "source": [
    "scaler = StandardScaler()\n",
    "scaled = scaler.fit_transform(wine_db.data)\n",
    "pca = PCA(n_components=5)\n",
    "X_pca = pca.fit_transform(scaled)\n",
    "y = wine_db.target"
   ]
  },
  {
   "cell_type": "markdown",
   "id": "7d28caa4-2ff4-43fb-b74a-acdeeca45bd3",
   "metadata": {
    "tags": []
   },
   "source": [
    "#### 線形SVMによる分類\n",
    "スコアは下記のようになった。\n",
    "\n",
    "テストデータすべてを正しく推定することができた。\n",
    "ランダムフォレストの重要度から手動で学習する特徴量をピックアップするよりも、PCAのアルゴリズムに任せて次元を圧縮したほうが\n",
    "結果的に精度が良いことがわかった。また、標準化したほうが精度向上が見込めることもわかった。\n",
    "\n",
    "\n",
    "##### 標準化なし\n",
    "- accuracy 0.9444444444444444\n",
    "- precision 0.9521739130434783\n",
    "- recall 0.940185608949911\n",
    "- f1 0.9453734671125975\n",
    "\n",
    "##### 標準化あり\n",
    "- accuracy 1.0\n",
    "- precision 1.0\n",
    "- recall 1.0\n",
    "- f1 1.0\n"
   ]
  },
  {
   "cell_type": "code",
   "execution_count": 15,
   "id": "ccaeef03-da73-464a-877f-062d6359faef",
   "metadata": {},
   "outputs": [
    {
     "name": "stdout",
     "output_type": "stream",
     "text": [
      "accuracy 1.0\n",
      "precision 1.0\n",
      "recall 1.0\n",
      "f1 1.0\n",
      "confusion matrix [[23  0  0]\n",
      " [ 0 19  0]\n",
      " [ 0  0 12]]\n"
     ]
    },
    {
     "data": {
      "image/png": "[encoded data removed]",
      "text/plain": [
       "<Figure size 640x480 with 2 Axes>"
      ]
     },
     "metadata": {},
     "output_type": "display_data"
    }
   ],
   "source": [
    "# 学習データとテストデータに分割する\n",
    "X_train, X_test, y_train, y_test = train_test_split(X_pca, y, test_size=0.3, random_state=1)\n",
    "\n",
    "# SVM で学習する\n",
    "svm_model = SVC(kernel='linear', C=1.0, random_state=1)\n",
    "svm_model.fit(X_train, y_train)\n",
    "\n",
    "score = svm_model.predict(X_test)\n",
    "show_score(y_test, score, \"svm_5_features_decomposited_by_pca.png\")"
   ]
  },
  {
   "cell_type": "markdown",
   "id": "10e23f0f-70a0-4685-921f-effc1f81d139",
   "metadata": {},
   "source": [
    "#### ロジスティック回帰\n",
    "スコアは下記のようになった。\n",
    "\n",
    "線形SVM同様テストデータすべてを正しく推定することができた。\n",
    "\n",
    "\n",
    "##### 標準化なし\n",
    "学習が収束せずエラーとなる\n",
    "\n",
    "```\n",
    "/opt/conda/envs/winedb_env/lib/python3.8/site-packages/sklearn/linear_model/_logistic.py:458: ConvergenceWarning: lbfgs failed to converge (status=1):\n",
    "STOP: TOTAL NO. of ITERATIONS REACHED LIMIT.\n",
    "\n",
    "Increase the number of iterations (max_iter) or scale the data as shown in:\n",
    "    https://scikit-learn.org/stable/modules/preprocessing.html\n",
    "Please also refer to the documentation for alternative solver options:\n",
    "    https://scikit-learn.org/stable/modules/linear_model.html#logistic-regression\n",
    "  n_iter_i = _check_optimize_result(\n",
    "```\n",
    "\n",
    "##### 標準化あり\n",
    "- accuracy 1.0\n",
    "- precision 1.0\n",
    "- recall 1.0\n",
    "- f1 1.0"
   ]
  },
  {
   "cell_type": "code",
   "execution_count": 16,
   "id": "516ab8f2-6aa0-401d-9fc8-9d9b18b7f67c",
   "metadata": {},
   "outputs": [
    {
     "name": "stdout",
     "output_type": "stream",
     "text": [
      "accuracy 1.0\n",
      "precision 1.0\n",
      "recall 1.0\n",
      "f1 1.0\n",
      "confusion matrix [[23  0  0]\n",
      " [ 0 19  0]\n",
      " [ 0  0 12]]\n"
     ]
    },
    {
     "data": {
      "image/png": "[encoded data removed]",
      "text/plain": [
       "<Figure size 640x480 with 2 Axes>"
      ]
     },
     "metadata": {},
     "output_type": "display_data"
    }
   ],
   "source": [
    "# 学習データとテストデータに分割する\n",
    "X_train, X_test, y_train, y_test = train_test_split(X_pca, y, test_size=0.3, random_state=1)\n",
    "\n",
    "# SVM で学習する\n",
    "logistic_regression_model = LogisticRegression(multi_class='multinomial', solver='lbfgs')\n",
    "logistic_regression_model.fit(X_train, y_train)\n",
    "\n",
    "score = svm_model.predict(X_test)\n",
    "show_score(y_test, score, \"log_5_features_decomposited_by_pca.png\")"
   ]
  },
  {
   "cell_type": "markdown",
   "id": "86f601d9-1a25-4d03-8150-1ede675d9d7e",
   "metadata": {
    "tags": []
   },
   "source": [
    "### まとめ\n",
    "ワインデータセットの分類問題を解いた。\n",
    "\n",
    "特徴量を選定する方法として、ランダムフォレストによる重要度の大小によって学習する特徴量を選定する方法とPCAによる次元圧縮の方法の2種類を検証した。\n",
    "また、学習・分類するモデルには線形SVMとロジスティック回帰の2種類を検証した。\n",
    "\n",
    "特徴量選定方法と学習・分類毎の正解率を下記に示す。\n",
    "\n",
    "|                 | ランダムフォレスト重要度(5次元)| PCA(5次元)  |\n",
    "| --------------- | --------------------------| ----------- |\n",
    "| ロジスティック回帰 | 0.98                      | 1.00        |\n",
    "| SVM             | 0.98                      | 1.00        | \n",
    "\n",
    "\n",
    "検証結果より、PCAによって特徴量を5次元まで圧縮することによって正解率100%の精度を出すことができた。\n",
    "今回の課題を通して、モデルの違いによって正解率が変化することはあまりなかったため、特徴量を選定する際の既存プラクティスの調査、学習にかける前の処理と分類精度の変化を検証していく作業がメインだった。\n",
    "どのモデルを使用するかも重要だが、より高い分類精度を出力するためにはデータの前処理や特徴量の選定方法をトライ＆エラーすることも重要であると実感した。\n"
   ]
  },
  {
   "cell_type": "code",
   "execution_count": null,
   "id": "f63b97ee-d48c-446f-b9a4-429a30a50f43",
   "metadata": {},
   "outputs": [],
   "source": []
  }
 ],
 "metadata": {
  "kernelspec": {
   "display_name": "Python 3 (ipykernel)",
   "language": "python",
   "name": "python3"
  },
  "language_info": {
   "codemirror_mode": {
    "name": "ipython",
    "version": 3
   },
   "file_extension": ".py",
   "mimetype": "text/x-python",
   "name": "python",
   "nbconvert_exporter": "python",
   "pygments_lexer": "ipython3",
   "version": "3.8.16"
  }
 },
 "nbformat": 4,
 "nbformat_minor": 5
}
