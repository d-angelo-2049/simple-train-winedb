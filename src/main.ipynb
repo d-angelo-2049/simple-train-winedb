{
 "cells": [
  {
   "cell_type": "markdown",
   "id": "c5f02201-8176-409b-9130-cfbdd2aaab4e",
   "metadata": {},
   "source": [
    "# ワインデータセットを用いた分類問題"
   ]
  },
  {
   "cell_type": "code",
   "execution_count": 3,
   "id": "114a2d53-94ae-4839-9d5d-5253ca194d98",
   "metadata": {},
   "outputs": [],
   "source": [
    "from sklearn.datasets import load_wine\n",
    "import numpy as np\n",
    "# データ分割用のメソッドの読み込み\n",
    "from sklearn.model_selection import train_test_split\n",
    "# SVMのメソッドの読み込み\n",
    "from sklearn.svm import SVC\n",
    "from matplotlib.colors import ListedColormap\n",
    "import matplotlib.pyplot as plt"
   ]
  },
  {
   "cell_type": "markdown",
   "id": "ace05eba-fdb1-46a7-8835-9962348e8102",
   "metadata": {},
   "source": [
    "# データセットインポート"
   ]
  },
  {
   "cell_type": "code",
   "execution_count": 4,
   "id": "c12ad3fb-e442-429a-aab8-a6ad6e12075c",
   "metadata": {},
   "outputs": [
    {
     "data": {
      "text/plain": [
       "['class_0', 'class_1', 'class_2']"
      ]
     },
     "execution_count": 4,
     "metadata": {},
     "output_type": "execute_result"
    }
   ],
   "source": [
    "wind_db = load_wine()\n",
    "wind_db.target[[10, 80, 140]]\n",
    "list(wind_db.target_names)"
   ]
  },
  {
   "cell_type": "code",
   "execution_count": null,
   "id": "6f6691bd-0c2d-4814-8eef-d351ae948066",
   "metadata": {},
   "outputs": [],
   "source": []
  }
 ],
 "metadata": {
  "kernelspec": {
   "display_name": "Python 3 (ipykernel)",
   "language": "python",
   "name": "python3"
  },
  "language_info": {
   "codemirror_mode": {
    "name": "ipython",
    "version": 3
   },
   "file_extension": ".py",
   "mimetype": "text/x-python",
   "name": "python",
   "nbconvert_exporter": "python",
   "pygments_lexer": "ipython3",
   "version": "3.8.16"
  }
 },
 "nbformat": 4,
 "nbformat_minor": 5
}
